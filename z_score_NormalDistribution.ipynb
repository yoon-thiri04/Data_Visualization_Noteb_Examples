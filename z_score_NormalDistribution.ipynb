{
 "cells": [
  {
   "cell_type": "code",
   "execution_count": 6,
   "id": "4c1b7458",
   "metadata": {},
   "outputs": [
    {
     "name": "stdout",
     "output_type": "stream",
     "text": [
      "The cumulative probability for the value 129 is 0.0388\n",
      "The cumulative probability for the value 155 is 0.2311\n",
      "The different between cumulative probability for the values 120 and 155 is 0.1923\n"
     ]
    }
   ],
   "source": [
    "from scipy.stats import norm\n",
    "\n",
    "mean=180\n",
    "stdev=34\n",
    "z_120=(120-mean)/stdev\n",
    "z_155=(155-mean)/stdev\n",
    "\n",
    "cdfp_of_zscore_120=norm.cdf(z_120)\n",
    "cdfp_of_zscore_155=norm.cdf(z_155)\n",
    "Diff_cdfp_of_zscore=cdfp_of_zscore_155-cdfp_of_zscore_120\n",
    "\n",
    "\"\"\"\n",
    "'norm.cdf function' returns returns the *'probability'* that a normally distributed random variable is less than or equal \n",
    "to the corresponding data point.\n",
    "z=(X-mean)/stdev \n",
    "X=datapoint\n",
    "\n",
    "\"\"\"\n",
    "print(f\"The cumulative probability for the value 129 is {cdfp_of_zscore_120:.4f}\")\n",
    "print(f\"The cumulative probability for the value 155 is {cdfp_of_zscore_155:.4f}\")\n",
    "print(f\"The different between cumulative probability for the values 120 and 155 is {Diff_cdfp_of_zscore:.4f}\")"
   ]
  },
  {
   "cell_type": "code",
   "execution_count": null,
   "id": "17f53477",
   "metadata": {},
   "outputs": [],
   "source": []
  }
 ],
 "metadata": {
  "kernelspec": {
   "display_name": "Python 3 (ipykernel)",
   "language": "python",
   "name": "python3"
  },
  "language_info": {
   "codemirror_mode": {
    "name": "ipython",
    "version": 3
   },
   "file_extension": ".py",
   "mimetype": "text/x-python",
   "name": "python",
   "nbconvert_exporter": "python",
   "pygments_lexer": "ipython3",
   "version": "3.11.5"
  }
 },
 "nbformat": 4,
 "nbformat_minor": 5
}
